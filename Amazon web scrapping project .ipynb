{
 "cells": [
  {
   "cell_type": "code",
   "execution_count": 54,
   "id": "d408cb96",
   "metadata": {},
   "outputs": [],
   "source": [
    "# import libraries \n",
    "\n",
    "from bs4 import BeautifulSoup \n",
    "import requests \n",
    "import smtplib \n",
    "import time \n",
    "import datetime\n"
   ]
  },
  {
   "cell_type": "code",
   "execution_count": 55,
   "id": "e1428a80",
   "metadata": {},
   "outputs": [
    {
     "name": "stdout",
     "output_type": "stream",
     "text": [
      "\n",
      "            Garmin Venu 2 Plus, GPS Smartwatch, Cream Gold Bezel with Ivory Case and Silicone Band\n",
      "           \n",
      "\n",
      "\n",
      "\n",
      "\n",
      "\n",
      "                4.6 out of 5 stars\n",
      "               \n",
      "\n",
      "\n",
      "\n",
      "\n",
      "\n",
      "\n",
      "\n",
      "\n",
      "\n",
      "             10,501 ratings\n",
      "            \n"
     ]
    }
   ],
   "source": [
    "## connect to website \n",
    "\n",
    "URL = 'https://www.amazon.com.au/dp/B09M48SGZC/ref=redir_mobile_desktop?_encoding=UTF8&aaxitk=71e04f88c76ff5bf660801f911179d38&content-id=amzn1.sym.81d63bf9-d4d4-443a-8aeb-7c8ee43e595e%3Aamzn1.sym.81d63bf9-d4d4-443a-8aeb-7c8ee43e595e&hsa_cr_id=4232628680203&pd_rd_plhdr=t&pd_rd_r=66c3c37c-7d25-42ff-b5c7-6df8dcb1ae84&pd_rd_w=JT4nr&pd_rd_wg=RYVLE&qid=1676975350&ref_=sbx_be_s_sparkle_mcd_asin_1_title&sr=1-2-ac08f2b1-eb5b-4f1a-aa64-9e8f448c33ed&th=1'\n",
    "headers = { \"User-Agent\": \"Mozilla/5.0 (Windows NT 10.0; Win64; x64) AppleWebKit/537.36 (KHTML, like Gecko) Chrome/110.0.0.0 Safari/537.36\", }\n",
    "page = requests.get(URL, headers=headers)\n",
    "\n",
    "soup1 = BeautifulSoup(page.content, \"html.parser\")\n",
    "\n",
    "soup2 = BeautifulSoup(soup1.prettify(), 'html.parser')\n",
    "\n",
    "title = soup2.find(id='productTitle').get_text()\n",
    "stars = soup2.find(id='acrPopover').get_text()\n",
    "ratings = soup2.find(id='acrCustomerReviewText').get_text()\n",
    "\n",
    "print(title)\n",
    "print(stars)\n",
    "print(ratings)"
   ]
  },
  {
   "cell_type": "code",
   "execution_count": 56,
   "id": "3cb67ab7",
   "metadata": {},
   "outputs": [
    {
     "name": "stdout",
     "output_type": "stream",
     "text": [
      "Garmin Venu 2 Plus, GPS Smartwatch, Cream Gold Bezel with Ivory Case and Silicone Band\n",
      ".6 out of 5 stars\n",
      "10,501 ratings\n"
     ]
    }
   ],
   "source": [
    "stars = stars.strip()[1:]\n",
    "title = title.strip()\n",
    "ratings = ratings.strip()\n",
    "\n",
    "print(title)\n",
    "print(stars)\n",
    "print(ratings)"
   ]
  },
  {
   "cell_type": "code",
   "execution_count": 57,
   "id": "1b66d86b",
   "metadata": {},
   "outputs": [],
   "source": [
    "import csv\n",
    "header = ['Title', 'Stars', 'Ratings']\n",
    "data = [title, stars, ratings,]\n",
    "\n",
    "with open('Amazon web scrapping dataset.csv', 'w', newline='', encoding='UTF8') as f:\n",
    "    writer = csv.writer(f)\n",
    "    writer.writerow(header)\n",
    "    writer.writerow(data)"
   ]
  },
  {
   "cell_type": "code",
   "execution_count": 51,
   "id": "67d3bbd2",
   "metadata": {},
   "outputs": [
    {
     "name": "stdout",
     "output_type": "stream",
     "text": [
      "2023-02-21\n"
     ]
    }
   ],
   "source": [
    "import datetime \n",
    "\n",
    "today = datetime.date.today()\n",
    "\n",
    "print(today)"
   ]
  },
  {
   "cell_type": "code",
   "execution_count": 58,
   "id": "f101e8b1",
   "metadata": {},
   "outputs": [
    {
     "name": "stdout",
     "output_type": "stream",
     "text": [
      "                                               Title              Stars  \\\n",
      "0  Garmin Venu 2 Plus, GPS Smartwatch, Cream Gold...  .6 out of 5 stars   \n",
      "\n",
      "          Ratings  \n",
      "0  10,501 ratings  \n"
     ]
    }
   ],
   "source": [
    "import pandas as pd \n",
    "\n",
    "df = pd.read_csv(r'D:\\Users\\Luke\\Amazon web scrapping dataset.csv')\n",
    "\n",
    "print(df)"
   ]
  },
  {
   "cell_type": "code",
   "execution_count": 59,
   "id": "af1f443b",
   "metadata": {},
   "outputs": [],
   "source": [
    "## appending the data \n",
    "\n",
    "with open('Amazon web scrapping dataset.csv', 'a+', newline='', encoding='UTF8') as f:\n",
    "    writer = csv.writer(f)\n",
    "    writer.writerow(data)"
   ]
  },
  {
   "cell_type": "code",
   "execution_count": 60,
   "id": "e278a41b",
   "metadata": {},
   "outputs": [
    {
     "name": "stdout",
     "output_type": "stream",
     "text": [
      "\n",
      "            Garmin Venu 2 Plus, GPS Smartwatch, Cream Gold Bezel with Ivory Case and Silicone Band\n",
      "           \n",
      "\n",
      "\n",
      "\n",
      "\n",
      "\n",
      "                4.6 out of 5 stars\n",
      "               \n",
      "\n",
      "\n",
      "\n",
      "\n",
      "\n",
      "\n",
      "\n",
      "\n",
      "\n",
      "             10,501 ratings\n",
      "            \n"
     ]
    }
   ],
   "source": [
    "def check_price():\n",
    "    URL = 'https://www.amazon.com.au/dp/B09M48SGZC/ref=redir_mobile_desktop?_encoding=UTF8&aaxitk=71e04f88c76ff5bf660801f911179d38&content-id=amzn1.sym.81d63bf9-d4d4-443a-8aeb-7c8ee43e595e%3Aamzn1.sym.81d63bf9-d4d4-443a-8aeb-7c8ee43e595e&hsa_cr_id=4232628680203&pd_rd_plhdr=t&pd_rd_r=66c3c37c-7d25-42ff-b5c7-6df8dcb1ae84&pd_rd_w=JT4nr&pd_rd_wg=RYVLE&qid=1676975350&ref_=sbx_be_s_sparkle_mcd_asin_1_title&sr=1-2-ac08f2b1-eb5b-4f1a-aa64-9e8f448c33ed&th=1'\n",
    "headers = { \"User-Agent\": \"Mozilla/5.0 (Windows NT 10.0; Win64; x64) AppleWebKit/537.36 (KHTML, like Gecko) Chrome/110.0.0.0 Safari/537.36\", }\n",
    "page = requests.get(URL, headers=headers)\n",
    "\n",
    "soup1 = BeautifulSoup(page.content, \"html.parser\")\n",
    "\n",
    "soup2 = BeautifulSoup(soup1.prettify(), 'html.parser')\n",
    "\n",
    "title = soup2.find(id='productTitle').get_text()\n",
    "stars = soup2.find(id='acrPopover').get_text()\n",
    "ratings = soup2.find(id='acrCustomerReviewText').get_text()\n",
    "\n",
    "print(title)\n",
    "print(stars)\n",
    "print(ratings)\n",
    "\n",
    "import datetime \n",
    "\n",
    "today = datetime.date.today()\n",
    "\n",
    "\n",
    "import csv\n",
    "header = ['Title', 'Stars', 'Ratings']\n",
    "data = [title, stars, ratings,]\n",
    "\n",
    "with open('Amazon web scrapping dataset.csv', 'a+', newline='', encoding='UTF8') as f:\n",
    "    writer = csv.writer(f)\n",
    "    writer.writerow(data)"
   ]
  },
  {
   "cell_type": "code",
   "execution_count": null,
   "id": "8b74e2fe",
   "metadata": {},
   "outputs": [],
   "source": [
    "while(True):\n",
    "    check_price()\n",
    "    time.sleep(86400)"
   ]
  },
  {
   "cell_type": "code",
   "execution_count": null,
   "id": "76693eac",
   "metadata": {},
   "outputs": [],
   "source": [
    "import pandas as pd \n",
    "\n",
    "df = pd.read_csv(r'D:\\Users\\Luke\\Amazon web scrapping dataset.csv')\n",
    "\n",
    "print(df)"
   ]
  },
  {
   "cell_type": "code",
   "execution_count": null,
   "id": "ac1d990c",
   "metadata": {},
   "outputs": [],
   "source": []
  }
 ],
 "metadata": {
  "kernelspec": {
   "display_name": "Python 3 (ipykernel)",
   "language": "python",
   "name": "python3"
  },
  "language_info": {
   "codemirror_mode": {
    "name": "ipython",
    "version": 3
   },
   "file_extension": ".py",
   "mimetype": "text/x-python",
   "name": "python",
   "nbconvert_exporter": "python",
   "pygments_lexer": "ipython3",
   "version": "3.9.13"
  }
 },
 "nbformat": 4,
 "nbformat_minor": 5
}
